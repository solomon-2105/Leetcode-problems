{
 "cells": [
  {
   "cell_type": "code",
   "execution_count": 3,
   "id": "80bd02f2",
   "metadata": {},
   "outputs": [
    {
     "name": "stdout",
     "output_type": "stream",
     "text": [
      "3\n"
     ]
    }
   ],
   "source": [
    "#finding the square root of a number using binary search\n",
    "#time complexity: O(log n)\n",
    "\n",
    "a=int(input())\n",
    "low,high=1,a\n",
    "while low<=high:\n",
    "    mid=(low+high)//2\n",
    "    if mid*mid==a:\n",
    "        print(mid)\n",
    "        break\n",
    "    elif mid*mid<a:\n",
    "        low=mid+1 \n",
    "    else:\n",
    "        high=mid-1\n",
    "else:\n",
    "    print(low-1)"
   ]
  },
  {
   "cell_type": "code",
   "execution_count": null,
   "id": "d5f6f371",
   "metadata": {},
   "outputs": [
    {
     "name": "stdout",
     "output_type": "stream",
     "text": [
      "2\n"
     ]
    }
   ],
   "source": [
    "#finding the nth root of a number using binary search\n",
    "#time complexity: O(log n)\n",
    "\n",
    "def brr(i,m):\n",
    "    return i**m\n",
    "\n",
    "m=int(input())\n",
    "a=int(input())\n",
    "low,high=1,a\n",
    "while low<=high:\n",
    "    mid=(low+high)//2\n",
    "    if brr(mid,m)==a:\n",
    "        print(mid)\n",
    "        break\n",
    "    elif brr(mid,m)<a:\n",
    "        low=mid+1 \n",
    "    else:\n",
    "        high=mid-1\n",
    "else:\n",
    "    print(\"invalid input\")"
   ]
  },
  {
   "cell_type": "code",
   "execution_count": null,
   "id": "387be30e",
   "metadata": {},
   "outputs": [
    {
     "name": "stdout",
     "output_type": "stream",
     "text": [
      "4\n"
     ]
    }
   ],
   "source": [
    "# koko eating bananas (bruteforce)\n",
    "\n",
    "import math\n",
    "def brr(a,i):\n",
    "    s=0\n",
    "    for j in a:\n",
    "        s+=math.ceil(j/i)\n",
    "    return s\n",
    "\n",
    "a=[1,3,6,12]\n",
    "h=int(input())\n",
    "maxi=max(a)\n",
    "for i in range(1,maxi+1):\n",
    "    req=brr(a,i)\n",
    "    if req<=h:\n",
    "        print(i)\n",
    "        break\n",
    "\n"
   ]
  },
  {
   "cell_type": "code",
   "execution_count": null,
   "id": "e5afb7bd",
   "metadata": {},
   "outputs": [
    {
     "name": "stdout",
     "output_type": "stream",
     "text": [
      "12\n"
     ]
    }
   ],
   "source": [
    "# koko eating bananas (optimal using binary search)\n",
    "\n",
    "import math\n",
    "def brr(a,i):\n",
    "    s=0\n",
    "    for j in a:\n",
    "        s+=math.ceil(j/i)\n",
    "    return s\n",
    "\n",
    "a=[1,3,6,12]\n",
    "h=int(input())\n",
    "low,high=1,max(a)\n",
    "ans=high\n",
    "while low<=high:\n",
    "    mid=(low+high)//2\n",
    "    req=brr(a,mid)\n",
    "    if req<=h:\n",
    "        ans=mid\n",
    "        high=mid-1\n",
    "    else:\n",
    "        low=mid+1\n",
    "print(ans)"
   ]
  },
  {
   "cell_type": "code",
   "execution_count": null,
   "id": "cfc84897",
   "metadata": {},
   "outputs": [
    {
     "name": "stdout",
     "output_type": "stream",
     "text": [
      "12\n"
     ]
    }
   ],
   "source": [
    "# minimum no of days to make m bouquets\n",
    "#bruteforce\n",
    "\n",
    "import sys\n",
    "a=[7,7,7,7,13,11,12,7]\n",
    "m,k=2,3\n",
    "mini=min(a)\n",
    "maxi=max(a)\n",
    "brr=sys.maxsize\n",
    "for i in range(mini,maxi+1):\n",
    "    s=0\n",
    "    c=0\n",
    "    for j in range(len(a)):\n",
    "        if a[j]<=i:\n",
    "            s+=1\n",
    "            if s==k:\n",
    "                c+=1\n",
    "                s=0\n",
    "        else:\n",
    "            s=0\n",
    "    if c>=m:\n",
    "        brr=min(brr,i)\n",
    "print(brr if brr!=sys.maxsize else -1)"
   ]
  },
  {
   "cell_type": "code",
   "execution_count": null,
   "id": "20aaf826",
   "metadata": {},
   "outputs": [
    {
     "name": "stdout",
     "output_type": "stream",
     "text": [
      "-1\n"
     ]
    }
   ],
   "source": [
    "#minimum no of days to make m bouquets\n",
    "#optimal using binary search\n",
    "\n",
    "import sys\n",
    "def brr(a):\n",
    "    maxi,mini= -sys.maxsize,sys.maxsize\n",
    "    for i in a:\n",
    "        if i>maxi:\n",
    "            maxi=i\n",
    "        if i<mini:\n",
    "            mini=i\n",
    "    return mini,maxi\n",
    "\n",
    "def check(a,i):\n",
    "    s=0\n",
    "    c=0\n",
    "    for j in range(len(a)):\n",
    "        if a[j]<=i:\n",
    "            s+=1\n",
    "            if s==k:\n",
    "                c+=1\n",
    "                s=0\n",
    "        else:\n",
    "            s=0\n",
    "    return c\n",
    "\n",
    "a=[1,10,3,10,2]\n",
    "m,k=3,2\n",
    "ans=0\n",
    "if m*k>len(a):\n",
    "    print(-1)\n",
    "else:\n",
    "    low,high=brr(a)\n",
    "    while low<=high:\n",
    "        mid=(low+high)//2\n",
    "        c=check(a,mid)\n",
    "        if c>=m:\n",
    "            ans=mid\n",
    "            high=mid-1\n",
    "        else:\n",
    "            low=mid+1\n",
    "    print(ans if ans!=0 else -1)\n",
    "\n"
   ]
  },
  {
   "cell_type": "code",
   "execution_count": null,
   "id": "714157d3",
   "metadata": {},
   "outputs": [
    {
     "name": "stdout",
     "output_type": "stream",
     "text": [
      "5\n"
     ]
    }
   ],
   "source": [
    "#Find the Smallest Divisor Given a Threshold (bruteforce)\n",
    "\n",
    "import math\n",
    "a=[1,2,5,9]\n",
    "t=6\n",
    "for i in range(1,max(a)+1):\n",
    "    s=0\n",
    "    for j in a:\n",
    "        s+=math.ceil(j/i)\n",
    "    if s<=t:\n",
    "        print(i)\n",
    "        break"
   ]
  },
  {
   "cell_type": "code",
   "execution_count": null,
   "id": "32b1b2d3",
   "metadata": {},
   "outputs": [
    {
     "name": "stdout",
     "output_type": "stream",
     "text": [
      "5\n"
     ]
    }
   ],
   "source": [
    "#Find the Smallest Divisor Given a Threshold (binary search)\n",
    "\n",
    "import math\n",
    "def brr(a,i):\n",
    "    s=0\n",
    "    for j in a:\n",
    "        s+=math.ceil(j/i)\n",
    "    return s<=t\n",
    "            \n",
    "a=[1,2,5,9]\n",
    "t=6\n",
    "low,high=1,max(a)\n",
    "ans=0\n",
    "while low<=high:\n",
    "    mid=(low+high)//2\n",
    "    if brr(a,mid):\n",
    "        ans=mid\n",
    "        high=mid-1\n",
    "    else:\n",
    "        low=mid+1\n",
    "print(ans if ans!=0 else -1)"
   ]
  },
  {
   "cell_type": "code",
   "execution_count": null,
   "id": "1d7f68db",
   "metadata": {},
   "outputs": [
    {
     "name": "stdout",
     "output_type": "stream",
     "text": [
      "55\n"
     ]
    }
   ],
   "source": [
    "#minimum capacity of the ship to deliver packages in n days \n",
    "\n",
    "def binary_search(a,i):\n",
    "    load=0\n",
    "    days=1\n",
    "    for j in a:\n",
    "        if (load+j)>i:\n",
    "            load=j\n",
    "            days+=1\n",
    "        else:\n",
    "            load+=j\n",
    "    return days\n",
    "\n",
    "a=[1,2,3,4,5,6,7,8,9,10]\n",
    "n=1\n",
    "low=max(a)\n",
    "high=sum(a)\n",
    "while low<=high:\n",
    "    mid=(low+high)//2\n",
    "    days=binary_search(a,mid)\n",
    "    if days<=n:\n",
    "        high=mid-1\n",
    "    else:\n",
    "        low=mid+1\n",
    "print(low)"
   ]
  },
  {
   "cell_type": "code",
   "execution_count": null,
   "id": "4f4fb99e",
   "metadata": {},
   "outputs": [
    {
     "name": "stdout",
     "output_type": "stream",
     "text": [
      "15\n"
     ]
    }
   ],
   "source": [
    "#find the kth missing integer (bruteforce 1)\n",
    "\n",
    "a=[3,5,7,11,13]\n",
    "k=10\n",
    "count=0\n",
    "i=1\n",
    "while True:\n",
    "    if i not in a:\n",
    "        count+=1\n",
    "        if count==k:\n",
    "            print(i)\n",
    "            break\n",
    "    i+=1"
   ]
  },
  {
   "cell_type": "code",
   "execution_count": null,
   "id": "7df06f70",
   "metadata": {},
   "outputs": [
    {
     "name": "stdout",
     "output_type": "stream",
     "text": [
      "9\n"
     ]
    }
   ],
   "source": [
    "#find the kth missing integer (optimal using binary search)\n",
    "a=[3,5,7,11,13]\n",
    "k=6\n",
    "low,high=0,len(a)-1\n",
    "missing_count=0\n",
    "while low<=high:\n",
    "    mid=(low+high)//2\n",
    "    missing_count=a[mid]-(mid+1)\n",
    "    if missing_count<k:\n",
    "        low=mid+1\n",
    "    else:\n",
    "        high=mid-1\n",
    "m=k-(a[high]-(high+1))\n",
    "print(a[high]+m)"
   ]
  },
  {
   "cell_type": "code",
   "execution_count": null,
   "id": "c5a0ffe1",
   "metadata": {},
   "outputs": [
    {
     "name": "stdout",
     "output_type": "stream",
     "text": [
      "3\n"
     ]
    }
   ],
   "source": [
    "#aggresive cows\n",
    "#(linear search)\n",
    "def can_place_cows(a,i,c):\n",
    "    last=a[0]\n",
    "    brr=1\n",
    "    for j in range(1,len(a)):\n",
    "        if a[j]-last>=i:\n",
    "            brr+=1\n",
    "            last=a[j]\n",
    "        if brr==c: return True\n",
    "    return False\n",
    "\n",
    "a=[0,3,4,9,7,10]\n",
    "c=4\n",
    "mini,maxi=1,max(a)\n",
    "a.sort()\n",
    "for i in range(1,maxi-mini+1):\n",
    "    if can_place_cows(a,i,c):\n",
    "        continue\n",
    "    else:\n",
    "        print(i-1)\n",
    "        break"
   ]
  },
  {
   "cell_type": "code",
   "execution_count": null,
   "id": "247977e0",
   "metadata": {},
   "outputs": [
    {
     "name": "stdout",
     "output_type": "stream",
     "text": [
      "3\n"
     ]
    }
   ],
   "source": [
    "#aggresive cows\n",
    "#(binary search)\n",
    "def can_place_cows(a,i,c):\n",
    "    last=a[0]\n",
    "    brr=1\n",
    "    for j in range(1,len(a)):\n",
    "        if a[j]-last>=i:\n",
    "            brr+=1\n",
    "            last=a[j]\n",
    "        if brr==c: return True\n",
    "    return False\n",
    "\n",
    "a=[0,3,4,9,7,10]\n",
    "c=4\n",
    "low,high=1,max(a)-min(a)\n",
    "a.sort()\n",
    "while low<=high:\n",
    "    mid=(low+high)//2\n",
    "    if can_place_cows(a,mid,c):\n",
    "        low=mid+1\n",
    "    else:\n",
    "        high=mid-1\n",
    "print(high)  # This will give the maximum distance possible"
   ]
  },
  {
   "cell_type": "code",
   "execution_count": null,
   "id": "0b327d04",
   "metadata": {},
   "outputs": [
    {
     "name": "stdout",
     "output_type": "stream",
     "text": [
      "71\n"
     ]
    }
   ],
   "source": [
    "#books allocation problem( bruteforce)\n",
    "\n",
    "def funt(a,p):\n",
    "    s=1\n",
    "    pages_student=0\n",
    "    for i in range(len(a)):\n",
    "        if pages_student+a[i]<=p:\n",
    "            pages_student+=a[i]\n",
    "        else:\n",
    "            s+=1\n",
    "            pages_student=a[i]\n",
    "    return s\n",
    "a=[25,46,28,49,24]\n",
    "low,high=max(a),sum(a)\n",
    "m=4\n",
    "for p in range(low,high+1):\n",
    "    cnt=funt(a,p)\n",
    "    if cnt<=m:\n",
    "        print(p)\n",
    "        break"
   ]
  },
  {
   "cell_type": "code",
   "execution_count": null,
   "id": "03710670",
   "metadata": {},
   "outputs": [
    {
     "name": "stdout",
     "output_type": "stream",
     "text": [
      "71\n"
     ]
    }
   ],
   "source": [
    "#books allocation problem( binary search)\n",
    "\n",
    "def funt(a,p):\n",
    "    s=1\n",
    "    pages_student=0\n",
    "    for i in range(len(a)):\n",
    "        if pages_student+a[i]<=p:\n",
    "            pages_student+=a[i]\n",
    "        else:\n",
    "            s+=1\n",
    "            pages_student=a[i]\n",
    "    return s\n",
    "a=[25,46,28,49,24]\n",
    "low,high=max(a),sum(a)\n",
    "m=4\n",
    "ans=0\n",
    "while low<=high:\n",
    "    p=(low+high)//2\n",
    "    cnt=funt(a,p)\n",
    "    if cnt<=m:\n",
    "        ans=p\n",
    "        high=p-1\n",
    "    else:\n",
    "        low=p+1\n",
    "print(ans)"
   ]
  },
  {
   "cell_type": "code",
   "execution_count": null,
   "id": "c31de7d8",
   "metadata": {},
   "outputs": [
    {
     "name": "stdout",
     "output_type": "stream",
     "text": [
      "71\n"
     ]
    }
   ],
   "source": [
    "#painters partition problem (binary search)\n",
    "\n",
    "def funt(a,p):\n",
    "    s=1\n",
    "    pages_student=0\n",
    "    for i in range(len(a)):\n",
    "        if pages_student+a[i]<=p:\n",
    "            pages_student+=a[i]\n",
    "        else:\n",
    "            s+=1\n",
    "            pages_student=a[i]\n",
    "    return s\n",
    "a=[25,46,28,49,24]\n",
    "low,high=max(a),sum(a)\n",
    "m=4\n",
    "ans=0\n",
    "while low<=high:\n",
    "    p=(low+high)//2\n",
    "    cnt=funt(a,p)\n",
    "    if cnt<=m:\n",
    "        ans=p\n",
    "        high=p-1\n",
    "    else:\n",
    "        low=p+1\n",
    "print(ans)"
   ]
  },
  {
   "cell_type": "code",
   "execution_count": null,
   "id": "10ea6934",
   "metadata": {},
   "outputs": [
    {
     "name": "stdout",
     "output_type": "stream",
     "text": [
      "[1, 2, 3, 4, 5, 6, 7, 8, 9, 10]\n",
      "5\n"
     ]
    }
   ],
   "source": [
    "#find the median of 2 sorted arrays (bruteforce)\n",
    "\n",
    "a=[1,3,5,7,9,10]\n",
    "b=[2,4,6,8]\n",
    "c,d=len(a),len(b)\n",
    "brr=[0]*(c+d)\n",
    "i,j,k=0,0,0\n",
    "while i<c and j<d:\n",
    "    if a[i]<=b[j]:\n",
    "        brr[k]=a[i]\n",
    "        i+=1\n",
    "        k+=1\n",
    "    else:\n",
    "        brr[k]=b[j]\n",
    "        j+=1\n",
    "        k+=1\n",
    "while i<c:\n",
    "    brr[k]=a[i]\n",
    "    k+=1\n",
    "    i+=1\n",
    "while j<d:\n",
    "    brr[k]=b[j]\n",
    "    k+=1\n",
    "    j+=1\n",
    "print(brr)\n",
    "if len(brr)%2==0:\n",
    "    mid=len(brr)//2\n",
    "    print((brr[mid]+brr[mid-1])//2)\n",
    "else:\n",
    "    print(brr[len(brr)/2])"
   ]
  },
  {
   "cell_type": "code",
   "execution_count": null,
   "id": "46d2de2e",
   "metadata": {},
   "outputs": [
    {
     "name": "stdout",
     "output_type": "stream",
     "text": [
      "Median is 4\n"
     ]
    }
   ],
   "source": [
    "#median of two sorted arrays (better approach without additional space)\n",
    "def find_median(a,b):\n",
    "    c,d=len(a),len(b)\n",
    "    total=c+d\n",
    "    i=j=brr=0\n",
    "    if total%2==0:\n",
    "        mid1=total//2-1\n",
    "        mid2=total//2\n",
    "        val1=val2=None\n",
    "        while i<c and j<d:\n",
    "            if a[i]<=b[j]:\n",
    "                if brr==mid1:\n",
    "                    val1=a[i]\n",
    "                if brr==mid2:\n",
    "                    val2=a[i]\n",
    "                    return (val1+val2)/2\n",
    "                i+=1\n",
    "            else:\n",
    "                if brr==mid1:\n",
    "                    val1=b[j]\n",
    "                if brr==mid2:\n",
    "                    val2=b[j]\n",
    "                    return (val1+val2)/2\n",
    "                j+=1\n",
    "            brr+=1\n",
    "        while i<c:\n",
    "            if brr==mid1:\n",
    "                val1=a[i]\n",
    "            if brr==mid2:\n",
    "                val2=a[i]\n",
    "                return (val1+val2)/2\n",
    "            i+=1\n",
    "            brr+=1\n",
    "        while j<d:\n",
    "            if brr==mid1:\n",
    "                val1=b[j]\n",
    "            if brr==mid2:\n",
    "                val2=b[j]\n",
    "                return (val1+val2)/2\n",
    "            j+=1\n",
    "            brr+=1\n",
    "    else:\n",
    "        mid=total//2\n",
    "        while i<c and j<d:\n",
    "            if a[i]<=b[j]:\n",
    "                if brr==mid:\n",
    "                    return a[i]\n",
    "                i+=1\n",
    "            else:\n",
    "                if brr==mid:\n",
    "                    return b[j]\n",
    "                j+=1\n",
    "            brr+=1\n",
    "        while i<c:\n",
    "            if brr==mid:\n",
    "                return a[i]\n",
    "            i+=1\n",
    "            brr+=1\n",
    "        while j<d:\n",
    "            if brr==mid:\n",
    "                return b[j]\n",
    "            j+=1\n",
    "            brr+=1\n",
    "median=find_median([1],[2,4,6,8])\n",
    "print(\"Median is\", median)"
   ]
  },
  {
   "cell_type": "code",
   "execution_count": 1,
   "id": "b5a4cded",
   "metadata": {},
   "outputs": [
    {
     "name": "stdout",
     "output_type": "stream",
     "text": [
      "4.5\n"
     ]
    }
   ],
   "source": [
    "#median of 2 sorted arrays (linear search)\n",
    "\n",
    "a=list(map(int,input().split()))\n",
    "b=list(map(int,input().split()))\n",
    "c=d=0\n",
    "merged=[]\n",
    "while c<len(a) or d<len(b):\n",
    "    if d==len(b) or (c<len(a) and a[c]<=b[d]):\n",
    "        merged.append(a[c])\n",
    "        c+=1\n",
    "    else:\n",
    "        merged.append(b[d])\n",
    "        d+=1\n",
    "    if len(merged)>(len(a)+len(b))//2:\n",
    "        break\n",
    "total=len(a)+len(b)\n",
    "if total%2==1:\n",
    "    print(merged[-1])\n",
    "else:\n",
    "    \n",
    "    print((merged[-1]+merged[-2])/2)\n"
   ]
  },
  {
   "cell_type": "code",
   "execution_count": 5,
   "id": "c583f5fb",
   "metadata": {},
   "outputs": [
    {
     "name": "stdout",
     "output_type": "stream",
     "text": [
      "Median is: 8.0\n"
     ]
    }
   ],
   "source": [
    "#median of 2 sorted arrays (optimal using binary search)\n",
    "\n",
    "a=[7,12,14,15]\n",
    "b=[1,2,3,4,9,11]\n",
    "c,d=len(a),len(b)\n",
    "if c>d:\n",
    "    a,b=b,a\n",
    "    c,d=d,c\n",
    "low,high=0,c\n",
    "while low<=high:\n",
    "    mid=(low+high)//2\n",
    "    brr=(c+d+1)//2 -mid\n",
    "    l1=a[mid-1] if mid>0 else float('-inf')\n",
    "    r1=a[mid] if mid<c else float('inf')\n",
    "    l2 = b[brr-1] if brr > 0 else float('-inf')\n",
    "    r2 = b[brr] if brr < d else float('inf')\n",
    "\n",
    "\n",
    "    if l1<=r2 and l2<=r1:\n",
    "        if (c+d)%2==0:\n",
    "            median=(max(l1,l2)+min(r1,r2))/2\n",
    "        else:\n",
    "            median=max(l1,l2)\n",
    "        print(\"Median is:\",median)\n",
    "        break\n",
    "    elif l1>r2:\n",
    "        high=mid-1\n",
    "    elif l2>r1:\n",
    "        low=mid+1"
   ]
  }
 ],
 "metadata": {
  "kernelspec": {
   "display_name": "Python 3",
   "language": "python",
   "name": "python3"
  },
  "language_info": {
   "codemirror_mode": {
    "name": "ipython",
    "version": 3
   },
   "file_extension": ".py",
   "mimetype": "text/x-python",
   "name": "python",
   "nbconvert_exporter": "python",
   "pygments_lexer": "ipython3",
   "version": "3.13.2"
  }
 },
 "nbformat": 4,
 "nbformat_minor": 5
}
