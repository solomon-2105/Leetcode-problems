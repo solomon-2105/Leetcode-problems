{
 "cells": [
  {
   "cell_type": "code",
   "execution_count": 1,
   "id": "34ce6311",
   "metadata": {},
   "outputs": [
    {
     "name": "stdout",
     "output_type": "stream",
     "text": [
      "key element found at index 3\n"
     ]
    }
   ],
   "source": [
    "#iterative binary search\n",
    "a=[1,3,5,6,7,9]\n",
    "key=6\n",
    "low,high=0,len(a)-1\n",
    "while low<=high:\n",
    "    mid=low+(high-low)//2\n",
    "    if a[mid]==key:\n",
    "        break\n",
    "    elif a[mid]>key:\n",
    "        high=mid-1\n",
    "    elif a[mid]<key:\n",
    "        low=mid+1\n",
    "if a[mid]!=key:\n",
    "    print(\"key element not found\")\n",
    "else:\n",
    "    print(f\"key element found at index {mid}\")"
   ]
  },
  {
   "cell_type": "code",
   "execution_count": 2,
   "id": "1f855804",
   "metadata": {},
   "outputs": [
    {
     "name": "stdout",
     "output_type": "stream",
     "text": [
      "2\n"
     ]
    }
   ],
   "source": [
    "#recursive binary search\n",
    "key=5\n",
    "def binary_search(a,low,high):\n",
    "    if low<=high:\n",
    "        mid=low+(high-low)//2\n",
    "        if a[mid]==key:\n",
    "            return mid\n",
    "        elif a[mid]>key:\n",
    "            return binary_search(a,low,mid-1)\n",
    "        else:\n",
    "            return binary_search(a,mid+1,high)\n",
    "\n",
    "a=[1,3,5,6,7,9]\n",
    "low,high=0,len(a)-1\n",
    "c=binary_search(a,low,high)\n",
    "if c is not None:\n",
    "    print(c)\n"
   ]
  },
  {
   "cell_type": "code",
   "execution_count": 2,
   "id": "7ca38b4a",
   "metadata": {},
   "outputs": [
    {
     "name": "stdout",
     "output_type": "stream",
     "text": [
      "1\n"
     ]
    }
   ],
   "source": [
    "#finding lower bound\n",
    "a=[5,6,6,7,8,9,11]\n",
    "key=6\n",
    "ans=len(a)\n",
    "low,high=0,len(a)-1\n",
    "while low<=high:\n",
    "    mid=low+(high-low)//2\n",
    "    if a[mid]>=key:\n",
    "        ans=mid\n",
    "        high=mid-1\n",
    "    else:\n",
    "        low=mid+1\n",
    "print(ans)"
   ]
  },
  {
   "cell_type": "code",
   "execution_count": 4,
   "id": "9c402c22",
   "metadata": {},
   "outputs": [
    {
     "name": "stdout",
     "output_type": "stream",
     "text": [
      "6\n"
     ]
    }
   ],
   "source": [
    "#finding upper bound\n",
    "a=[6,6,7,8,9,11]\n",
    "key=11\n",
    "ans=len(a)\n",
    "low,high=0,len(a)-1\n",
    "while low<=high:\n",
    "    mid=low+(high-low)//2\n",
    "    if a[mid]>key:\n",
    "        ans=mid\n",
    "        high=mid-1\n",
    "    else:\n",
    "        low=mid+1\n",
    "print(ans)"
   ]
  },
  {
   "cell_type": "code",
   "execution_count": 18,
   "id": "f4edcd43",
   "metadata": {},
   "outputs": [
    {
     "name": "stdout",
     "output_type": "stream",
     "text": [
      "[6, 7, 8, 9]\n"
     ]
    }
   ],
   "source": [
    "#search insert position (same as finding lower bound)\n",
    "\n",
    "a=[6,7,9]\n",
    "key=8\n",
    "ans=len(a)\n",
    "low,high=0,len(a)-1\n",
    "while low<=high:\n",
    "    mid=low+(high-low)//2\n",
    "    if a[mid]>=key:\n",
    "        ans=mid\n",
    "        high=mid-1\n",
    "    else:\n",
    "        low=mid+1\n",
    "a.insert(ans,key)\n",
    "print(a)"
   ]
  },
  {
   "cell_type": "code",
   "execution_count": null,
   "id": "5beef562",
   "metadata": {},
   "outputs": [
    {
     "name": "stdout",
     "output_type": "stream",
     "text": [
      "4\n"
     ]
    }
   ],
   "source": [
    "#floor of the element\n",
    "a=[1,2,3,4,6,7]\n",
    "key=5\n",
    "ans=-1\n",
    "low,high=0,len(a)-1\n",
    "while low<=high:\n",
    "    mid=(low+high)//2\n",
    "    if a[mid]<=key:\n",
    "        ans=a[mid]\n",
    "        low=mid+1\n",
    "    else:\n",
    "        high=mid-1\n",
    "print(ans)"
   ]
  },
  {
   "cell_type": "code",
   "execution_count": 7,
   "id": "e71a7b92",
   "metadata": {},
   "outputs": [
    {
     "name": "stdout",
     "output_type": "stream",
     "text": [
      "9\n"
     ]
    }
   ],
   "source": [
    "#ceil of the array\n",
    "a=[6,6,7,9]\n",
    "key=8\n",
    "ans=-1\n",
    "low,high=0,len(a)-1\n",
    "while low<=high:\n",
    "    mid=(low+high)//2\n",
    "    if a[mid]>=key:\n",
    "        ans=a[mid]\n",
    "        high=mid-1\n",
    "    else:\n",
    "        low=mid+1\n",
    "print(ans)"
   ]
  },
  {
   "cell_type": "code",
   "execution_count": 8,
   "id": "54c96bb2",
   "metadata": {},
   "outputs": [
    {
     "name": "stdout",
     "output_type": "stream",
     "text": [
      "first and last occurances are at the positions 2 & 4\n",
      "no of times the element 6 occured is 3\n"
     ]
    }
   ],
   "source": [
    "#find first and last occurance\n",
    "def lb(a,low,high):\n",
    "    ans=-1\n",
    "    while low<=high:\n",
    "        mid=(low+high)//2\n",
    "        if a[mid]>=key:\n",
    "            ans=mid\n",
    "            high=mid-1\n",
    "        else:\n",
    "            low=mid+1\n",
    "    if ans!=-1 and a[ans]==key:\n",
    "        return ans\n",
    "    return -1\n",
    "\n",
    "def ub(a,low,high):\n",
    "    ans=-1\n",
    "    while low<=high:\n",
    "        mid=(low+high)//2\n",
    "        if a[mid]>key:\n",
    "            ans=mid\n",
    "            high=mid-1\n",
    "        else:\n",
    "            low=mid+1\n",
    "    if ans!=-1 and a[ans-1]==key:\n",
    "        return ans-1\n",
    "    return -1\n",
    "\n",
    "a=[1,3,6,6,6,9]\n",
    "key=6\n",
    "first,last=-1,-1\n",
    "low,high=0,len(a)-1\n",
    "lbn=lb(a,low,high)\n",
    "ubr=ub(a,low,high)\n",
    "print(f\"first and last occurances are at the positions {lbn} & {ubr}\")\n",
    "print(f\"no of times the element {key} occured is {ubr-lbn+1}\")"
   ]
  },
  {
   "cell_type": "code",
   "execution_count": 9,
   "id": "e52af319",
   "metadata": {},
   "outputs": [
    {
     "name": "stdout",
     "output_type": "stream",
     "text": [
      "element found at 6\n"
     ]
    }
   ],
   "source": [
    "#search target in a rotated sorted array (array with unique elements)\n",
    "\n",
    "a=[7,8,9,1,2,3,4,5,6]\n",
    "t=4\n",
    "c,d=0,len(a)-1\n",
    "flag=False\n",
    "while c<=d:\n",
    "    m=(c+d)//2\n",
    "    if a[m]==t:\n",
    "        print(f\"element found at {m}\")\n",
    "        flag=True\n",
    "        break\n",
    "    elif a[c]<=a[m]:\n",
    "        if a[c]<=t and t<=a[m]:\n",
    "            d=m-1\n",
    "        else:\n",
    "            c=m+1\n",
    "    else:\n",
    "        if a[m]<=t and t<=a[d]:\n",
    "            c=m+1\n",
    "        else:\n",
    "            d=m-1\n",
    "if not flag:\n",
    "    print(\"element isn't present\")"
   ]
  },
  {
   "cell_type": "code",
   "execution_count": 10,
   "id": "844c2b83",
   "metadata": {},
   "outputs": [
    {
     "name": "stdout",
     "output_type": "stream",
     "text": [
      "element isn't found\n"
     ]
    }
   ],
   "source": [
    "#search target in a rotated sorted array (array with duplicate elements)\n",
    "#just tell if the target exists or not (yes/no)\n",
    "\n",
    "a=[7,8,8,8,9,1,2,2,2,2,3,3,3,3,4,4,4,5,6]\n",
    "t=10\n",
    "c,d=0,len(a)-1\n",
    "flag=False\n",
    "while c<=d:\n",
    "    m=(c+d)//2\n",
    "    if a[m]==t:\n",
    "        print(\"element is found\")\n",
    "        flag=True\n",
    "        break\n",
    "    if a[c]==a[m] and a[m]==a[d]:\n",
    "        c+=1\n",
    "        d-=1\n",
    "        continue\n",
    "    if a[c]<=a[m]:\n",
    "        if a[c]<=t and t<=a[m]:\n",
    "            d=m-1\n",
    "        else:\n",
    "            c=m+1\n",
    "    else:\n",
    "        if a[m]<=t and t<=a[d]:\n",
    "            c=m+1\n",
    "        else:\n",
    "            d=m-1\n",
    "if not flag:\n",
    "    print(\"element isn't found\")"
   ]
  },
  {
   "cell_type": "code",
   "execution_count": 16,
   "id": "c54dcf20",
   "metadata": {},
   "outputs": [
    {
     "name": "stdout",
     "output_type": "stream",
     "text": [
      "6\n"
     ]
    }
   ],
   "source": [
    "# find the no. of rotations done to an array\n",
    "a=[4,5,6,7,8,9,1,2,3]\n",
    "t=float('inf')\n",
    "c,d,e=0,len(a)-1,0\n",
    "while c<=d:\n",
    "    m=(c+d)//2\n",
    "    if a[c]<=a[m]:\n",
    "        if a[c]<t:\n",
    "            t=a[c]\n",
    "            e=c\n",
    "        c=m+1\n",
    "    else:\n",
    "        if a[m]<t:\n",
    "            t=a[m]\n",
    "            e=m\n",
    "        d=m-1\n",
    "print(e)"
   ]
  },
  {
   "cell_type": "code",
   "execution_count": 2,
   "id": "428b3339",
   "metadata": {},
   "outputs": [
    {
     "name": "stdout",
     "output_type": "stream",
     "text": [
      "4\n"
     ]
    }
   ],
   "source": [
    "# find the minimum of the rotated sorted array\n",
    "a=[4,5,6,7,8,9]\n",
    "t=float('inf')\n",
    "c,d=0,len(a)-1\n",
    "while c<=d:\n",
    "    m=(c+d)//2\n",
    "    if a[c]<=a[m]:\n",
    "        if a[c]<t:\n",
    "            t=a[c]\n",
    "            \n",
    "        c=m+1\n",
    "    else:\n",
    "        if a[m]<t:\n",
    "            t=a[m]\n",
    "            \n",
    "        d=m-1\n",
    "print(t)"
   ]
  },
  {
   "cell_type": "code",
   "execution_count": 2,
   "id": "7fc3b407",
   "metadata": {},
   "outputs": [
    {
     "name": "stdout",
     "output_type": "stream",
     "text": [
      "3\n"
     ]
    }
   ],
   "source": [
    "#single element in a sorted array(only one element is not repeated twice and all others are repeated twice)\n",
    "#bruteforce\n",
    "a=[1,1,2,2,3,4,4,5,5,6,6]\n",
    "for i in range(len(a)):\n",
    "    if i==0 and a[i]!=a[i+1]:\n",
    "        print(a[i])\n",
    "        break\n",
    "    elif i==len(a)-1 and a[i]!=a[i-1]:\n",
    "        print(a[i])\n",
    "        break\n",
    "    elif a[i]!=a[i+1] and a[i]!=a[i-1]:\n",
    "        print(a[i])\n",
    "        break"
   ]
  },
  {
   "cell_type": "code",
   "execution_count": null,
   "id": "e313e625",
   "metadata": {},
   "outputs": [],
   "source": [
    "#single element in a sorted array(only one element is not repeated twice and all others are repeated twice)\n",
    "#binary search\n",
    "\n",
    "class Solution:\n",
    "    def singleNonDuplicate(self, nums):\n",
    "        a=len(nums)-1\n",
    "        if len(nums)==1: return nums[0]\n",
    "        low=1\n",
    "        high=len(nums)-2\n",
    "        if nums[0]!=nums[1]: return nums[0]\n",
    "        if nums[a]!=nums[a-1]: return nums[a]\n",
    "        while low<=high:\n",
    "            mid=low+(high-low)//2\n",
    "            if nums[mid-1]!=nums[mid] and nums[mid]!=nums[mid+1]: return nums[mid]\n",
    "            elif mid%2==0:\n",
    "                if nums[mid]==nums[mid+1]: low=mid+1\n",
    "                else: high=mid-1\n",
    "            elif mid%2==1:\n",
    "                if nums[mid]==nums[mid-1]: low=mid+1\n",
    "                else: high=mid-1\n",
    "\n",
    "        return -1\n",
    "    \n",
    "    #main logic is the same"
   ]
  },
  {
   "cell_type": "code",
   "execution_count": 5,
   "id": "5439c72f",
   "metadata": {},
   "outputs": [
    {
     "name": "stdout",
     "output_type": "stream",
     "text": [
      "peak element is 5 at index 4\n"
     ]
    }
   ],
   "source": [
    "#peak element in an array\n",
    "#bruteforce\n",
    "\n",
    "a=[1,2,3,4,5]\n",
    "if a[0]>a[1]:\n",
    "    print(f\"peak element is {a[0]} at index 0\")\n",
    "elif a[-1]>a[-2]:\n",
    "    print(f\"peak element is {a[-1]} at index {len(a)-1}\")\n",
    "else:\n",
    "    for i in range(1,len(a)-1):\n",
    "        if a[i-1]<a[i] and a[i]>a[i+1]:\n",
    "            print(f\"peak element is {a[i]} at index {i}\")\n",
    "            break\n"
   ]
  },
  {
   "cell_type": "code",
   "execution_count": 17,
   "id": "f2408449",
   "metadata": {},
   "outputs": [
    {
     "name": "stdout",
     "output_type": "stream",
     "text": [
      "peak element is 1 at index 0\n"
     ]
    }
   ],
   "source": [
    "#peak element in an array\n",
    "#optimal approach\n",
    "a=[1,0,-2]\n",
    "c=len(a)\n",
    "low,high=0,len(a)-1\n",
    "while low<=high:\n",
    "    mid=low+(high-low)//2\n",
    "    if (mid==0 and c==1) or \\\n",
    "        (mid==0 and a[mid]>a[mid+1]) or \\\n",
    "            (mid==c-1 and a[mid]>a[mid-1]) or \\\n",
    "                (mid>0 and mid<c-1 and a[mid]>a[mid-1] and a[mid]>a[mid+1]):\n",
    "        print(f\"peak element is {a[mid]} at index {mid}\")\n",
    "        break\n",
    "    elif a[mid]<a[mid+1]:\n",
    "        low=mid+1\n",
    "    else:\n",
    "        high=mid-1\n"
   ]
  }
 ],
 "metadata": {
  "kernelspec": {
   "display_name": "Python 3",
   "language": "python",
   "name": "python3"
  },
  "language_info": {
   "codemirror_mode": {
    "name": "ipython",
    "version": 3
   },
   "file_extension": ".py",
   "mimetype": "text/x-python",
   "name": "python",
   "nbconvert_exporter": "python",
   "pygments_lexer": "ipython3",
   "version": "3.13.2"
  }
 },
 "nbformat": 4,
 "nbformat_minor": 5
}
