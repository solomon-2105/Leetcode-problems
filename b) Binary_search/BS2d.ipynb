{
 "cells": [
  {
   "cell_type": "code",
   "execution_count": null,
   "id": "4dda2f31",
   "metadata": {},
   "outputs": [
    {
     "name": "stdout",
     "output_type": "stream",
     "text": [
      "0   3\n"
     ]
    }
   ],
   "source": [
    "#Row with maximum no of 1s (bruteforce)\n",
    "\n",
    "a=[[0, 1, 1, 1],[0, 0, 1, 1],[0, 0, 0, 1],[0, 0, 0, 0]]\n",
    "brr=len(a[0])\n",
    "c=len(a)\n",
    "grr=float('-inf')\n",
    "for i in range(c):\n",
    "    count=0\n",
    "    for j in range(brr):\n",
    "        if a[i][j]==1:\n",
    "            count+=1\n",
    "    if count>grr:\n",
    "        grr=count\n",
    "        row=i\n",
    "print(row, \" \" , grr)"
   ]
  },
  {
   "cell_type": "code",
   "execution_count": 10,
   "id": "cc138c3d",
   "metadata": {},
   "outputs": [
    {
     "name": "stdout",
     "output_type": "stream",
     "text": [
      "Row with maximum 1s is: 0\n"
     ]
    }
   ],
   "source": [
    "#Row with maximum no of 1s(optimal using binary search)\n",
    "\n",
    "a=[[0,0,1],[0,0,1,1],[0,0,0,1],[0,0,0,0]]\n",
    "brr=len(a[0])\n",
    "c=len(a)\n",
    "grr=float('-inf')\n",
    "for i in range(c):\n",
    "    count=0\n",
    "    ans=brr \n",
    "    low,high=0,brr-1 \n",
    "    while low<=high:\n",
    "        mid=low+(high-low)//2\n",
    "        if a[i][mid]>=1:  \n",
    "            ans=mid\n",
    "            high=mid-1\n",
    "        else:\n",
    "            low=mid+1\n",
    "    if ans!=brr:\n",
    "        count=brr-ans\n",
    "    if count>grr:\n",
    "        grr=count\n",
    "        row=i\n",
    "print(\"Row with maximum 1s is:\",row)\n"
   ]
  },
  {
   "cell_type": "code",
   "execution_count": null,
   "id": "97462b18",
   "metadata": {},
   "outputs": [
    {
     "name": "stdout",
     "output_type": "stream",
     "text": [
      "Element found at: 2th row, 2th column\n"
     ]
    }
   ],
   "source": [
    "# search in a 2d matrix - I\n",
    "#(binary search)\n",
    "a=[[1, 2, 3, 4],[5, 6, 7, 8],[9, 10, 11, 12],[13, 14, 15, 16]]\n",
    "c,d=len(a),len(a[0])\n",
    "low,high=0,c*d-1\n",
    "target=11\n",
    "while low<=high:\n",
    "    mid=low+(high-low)//2\n",
    "    mid_value=a[mid//d][mid%d]\n",
    "    if mid_value==target:\n",
    "        print(f\"Element found at: {mid//d}th row, {mid%d}th column\")\n",
    "        break\n",
    "    elif mid_value<target:\n",
    "        low=mid+1\n",
    "    else:\n",
    "        high=mid-1\n",
    "else:\n",
    "    print(\"Element not found in the matrix\")"
   ]
  },
  {
   "cell_type": "code",
   "execution_count": 7,
   "id": "885ca101",
   "metadata": {},
   "outputs": [
    {
     "name": "stdout",
     "output_type": "stream",
     "text": [
      "Element found at: 3th row, 1th column\n"
     ]
    }
   ],
   "source": [
    "# search in a 2d matrix - II\n",
    "#(binary search)\n",
    "\n",
    "a=[[1,3,5,7],[2,4,6,8],[9,11,15,17],[14,18,20,22]]\n",
    "row,col=0,len(a[0])-1\n",
    "target=18\n",
    "while row<len(a) and col>=0:\n",
    "    if a[row][col]==target:\n",
    "        print(f\"Element found at: {row}th row, {col}th column\")\n",
    "        break\n",
    "    elif a[row][col]>target:\n",
    "        col-=1\n",
    "    else:\n",
    "        row+=1\n",
    "else:\n",
    "    print(\"Element not found in the matrix\")"
   ]
  },
  {
   "cell_type": "code",
   "execution_count": 13,
   "id": "85c9d067",
   "metadata": {},
   "outputs": [
    {
     "name": "stdout",
     "output_type": "stream",
     "text": [
      "peak element found , which is  4\n"
     ]
    }
   ],
   "source": [
    "#peak element in a matrix (binary search)\n",
    "\n",
    "def maxi(i):\n",
    "    brr=-1\n",
    "    k,l=0,0\n",
    "    for j in range(len(a)):\n",
    "        if brr<a[j][i]:\n",
    "            brr=a[j][i]\n",
    "            k,l=j,i\n",
    "    return [k,l]\n",
    "\n",
    "a=[[4,2,5,1,4,5],[2,9,3,2,3,2],[1,7,6,0,1,3],[3,6,2,3,7,2]]\n",
    "c=len(a)\n",
    "low,high=0,len(a[0])-1\n",
    "while low<=high:\n",
    "    mid=low+(high-low)//2\n",
    "    p,s=maxi(mid)\n",
    "    if (s==0 or a[p][s]>a[p][s-1]) and (s==len(a[0])-1 or a[p][s]>a[p][s+1]) :\n",
    "        print(\"peak element found , which is \", a[p][s])\n",
    "        break\n",
    "    elif a[p][s]<a[p][s-1]:\n",
    "        high=mid-1\n",
    "    else:\n",
    "        low=mid+1\n",
    "else:\n",
    "    print(\"no peak element\")"
   ]
  },
  {
   "cell_type": "code",
   "execution_count": null,
   "id": "2abe30ed",
   "metadata": {},
   "outputs": [],
   "source": []
  }
 ],
 "metadata": {
  "kernelspec": {
   "display_name": "Python 3",
   "language": "python",
   "name": "python3"
  },
  "language_info": {
   "codemirror_mode": {
    "name": "ipython",
    "version": 3
   },
   "file_extension": ".py",
   "mimetype": "text/x-python",
   "name": "python",
   "nbconvert_exporter": "python",
   "pygments_lexer": "ipython3",
   "version": "3.13.2"
  }
 },
 "nbformat": 4,
 "nbformat_minor": 5
}
